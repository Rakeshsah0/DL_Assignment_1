{
 "cells": [
  {
   "cell_type": "markdown",
   "metadata": {},
   "source": [
    "#Downloaded the fashion_mnist database from keras and shown one images for each category"
   ]
  },
  {
   "cell_type": "code",
   "execution_count": null,
   "metadata": {},
   "outputs": [],
   "source": []
  },
  {
   "cell_type": "code",
   "execution_count": 38,
   "metadata": {},
   "outputs": [
    {
     "name": "stdout",
     "output_type": "stream",
     "text": [
      "(60000, 28, 28)\n"
     ]
    },
    {
     "data": {
      "text/plain": [
       "<Figure size 1500x500 with 0 Axes>"
      ]
     },
     "metadata": {},
     "output_type": "display_data"
    },
    {
     "data": {
      "image/png": "[encoded data removed]",
      "text/plain": [
       "<Figure size 640x480 with 10 Axes>"
      ]
     },
     "metadata": {},
     "output_type": "display_data"
    }
   ],
   "source": [
    "\n",
    "import numpy as np\n",
    "import matplotlib.pyplot as plt\n",
    "from keras.datasets import fashion_mnist\n",
    "(x_train, y_train),(x_test,y_test)= fashion_mnist.load_data()\n",
    "class_names = ['T-shirt/top', 'Trouser', 'Pullover', 'Dress', 'Coat', 'Sandal', 'Shirt', 'Sneaker', 'Bag', 'Ankle boot']\n",
    "print(x_train.shape)\n",
    "x_val = x_train[54000:]\n",
    "y_val = y_train[54000:]\n",
    "x_train = x_train[:54000]\n",
    "y_train = y_train[:54000]\n",
    "# Function to plot one sample image for each class\n",
    "def plot_samples(images, labels, class_names):\n",
    "    get_images=[]\n",
    "    get_labels=[]\n",
    "    plt.figure(figsize=(15, 5))\n",
    "    plt.figure(dpi=100)\n",
    "    unique_labels = np.unique(labels)\n",
    "    for label in unique_labels:\n",
    "        # Find the index of the first image with the current label\n",
    "        index = np.where(labels == label)[0][0]\n",
    "        get_images.append(images[index])\n",
    "        get_labels.append(label)\n",
    "    for i in range(len(unique_labels)):\n",
    "        plt.subplot(2, 5, i + 1)\n",
    "        plt.imshow(get_images[i], cmap='gray')\n",
    "        plt.title(class_names[i])\n",
    "        plt.axis('off')\n",
    "    plt.show()\n",
    "# Plot one sample image for each class\n",
    "plot_samples(x_train, y_train, class_names)\n"
   ]
  },
  {
   "cell_type": "code",
   "execution_count": 39,
   "metadata": {},
   "outputs": [
    {
     "name": "stdout",
     "output_type": "stream",
     "text": [
      "(54000, 784)\n"
     ]
    }
   ],
   "source": [
    "# Vectorise and normalize the data\n",
    "x_train = x_train.reshape(x_train.shape[0], 784)\n",
    "x_val  = x_val.reshape(x_val.shape[0], 784)\n",
    "x_test = x_test.reshape(x_test.shape[0], 784)\n",
    "print(x_train.shape)\n",
    "x_train = x_train / 255.0\n",
    "x_test = x_test / 255.0\n",
    "x_val  = x_val / 255.0"
   ]
  },
  {
   "cell_type": "code",
   "execution_count": null,
   "metadata": {},
   "outputs": [],
   "source": []
  },
  {
   "cell_type": "code",
   "execution_count": 40,
   "metadata": {},
   "outputs": [
    {
     "name": "stdout",
     "output_type": "stream",
     "text": [
      "Training Accuracy: 0.10083333333333333\n"
     ]
    }
   ],
   "source": [
    "# Define the architecture of the neural network\n",
    "layer_dims = [784,32,64,128,10]  # Number of neurons in each layer, including input and output layers\n",
    "\n",
    "# Initialize weights and biases\n",
    "np.random.seed(0)  # For reproducibility\n",
    "parameters = {}\n",
    "for l in range(1, len(layer_dims)):\n",
    "    parameters['W' + str(l)] = np.random.randn(layer_dims[l - 1], layer_dims[l]) * 0.01\n",
    "    parameters['b' + str(l)] = np.zeros((1, layer_dims[l]))\n",
    "\n",
    "# Define the sigmoid activation function and softmax function\n",
    "def sigmoid(x):\n",
    "    return 1 / (1 + np.exp(-x))\n",
    "\n",
    "def softmax(x):\n",
    "    exp_scores = np.exp(x - np.max(x, axis=1, keepdims=True))\n",
    "    return exp_scores / np.sum(exp_scores, axis=1, keepdims=True)\n",
    "\n",
    "# Define the feedforward propagation\n",
    "def forward_propagation(X, parameters):\n",
    "    A = X\n",
    "    caches = [(None, None)]  # To store intermediate values for each layer (Z, A)\n",
    "    for l in range(1, len(layer_dims)):\n",
    "        Z = np.dot(A, parameters['W' + str(l)]) + parameters['b' + str(l)]\n",
    "        if l == len(layer_dims) - 1:\n",
    "            A = softmax(Z)\n",
    "        else:\n",
    "            A = sigmoid(Z)\n",
    "        caches.append((Z, A))\n",
    "    return A, caches\n",
    "\n",
    "# Perform forward propagation on the training data\n",
    "predictions, caches = forward_propagation(x_train, parameters)\n",
    "\n",
    "# Example of how to use the predictions:\n",
    "# Assuming y_train contains the true labels of the training data\n",
    "# For example, if you want to calculate the accuracy:\n",
    "y_prediction=np.argmax(predictions, axis=1)\n",
    "accuracy = np.mean(y_prediction== y_train)\n",
    "print(\"Training Accuracy:\", accuracy)\n"
   ]
  },
  {
   "cell_type": "code",
   "execution_count": 41,
   "metadata": {},
   "outputs": [
    {
     "data": {
      "text/plain": [
       "5445"
      ]
     },
     "execution_count": 41,
     "metadata": {},
     "output_type": "execute_result"
    }
   ],
   "source": [
    "np.sum(y_prediction==y_train)"
   ]
  }
 ],
 "metadata": {
  "kernelspec": {
   "display_name": "Python 3",
   "language": "python",
   "name": "python3"
  },
  "language_info": {
   "codemirror_mode": {
    "name": "ipython",
    "version": 3
   },
   "file_extension": ".py",
   "mimetype": "text/x-python",
   "name": "python",
   "nbconvert_exporter": "python",
   "pygments_lexer": "ipython3",
   "version": "3.10.6"
  }
 },
 "nbformat": 4,
 "nbformat_minor": 2
}
